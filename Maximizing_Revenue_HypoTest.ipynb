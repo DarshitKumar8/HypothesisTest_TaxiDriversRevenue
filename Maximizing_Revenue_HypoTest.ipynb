{
 "cells": [
  {
   "cell_type": "markdown",
   "id": "95a78382-4f4e-47d6-8d98-5fdfc56ad05f",
   "metadata": {},
   "source": [
    "# Maximizing Revenue for Taxi Cab Driver through Payment Type Analysis"
   ]
  },
  {
   "cell_type": "markdown",
   "id": "c1a1b1ff-d26a-4d55-b385-0c0019a5c61a",
   "metadata": {},
   "source": [
    "### Problem Statement"
   ]
  },
  {
   "cell_type": "markdown",
   "id": "453f792b-f9c1-4ee9-8fb9-ce73937a7945",
   "metadata": {},
   "source": [
    "In the fast paced taxing booking sector, making the most of revenue is essential for long-term success & driver happiness. Our goal is to use data driven insights to maximize revenue streams for taxi drivers in order to meet this need. Our research aims to determine whether payment methods have impact on fair pricing by focusing on the relationship between payment type & fare amount."
   ]
  },
  {
   "cell_type": "markdown",
   "id": "5e468829-08d9-403e-9a7f-282b5c5a02ec",
   "metadata": {},
   "source": [
    "### Objective"
   ]
  },
  {
   "cell_type": "markdown",
   "id": "b737e25d-949d-4be9-af38-a19543b5f4dd",
   "metadata": {},
   "source": [
    "This project's main goal is to run an A/B test to examine the relationship between the total fare & the method of payment. We use Python hypothesis testing & descriptive statistics to extract useful information that can help taxi drivers generate more income. In particular we want to find out if there is a big difference in the fares for those who pay with credit cards v/s those who pay with cash."
   ]
  },
  {
   "cell_type": "markdown",
   "id": "702a0816-9926-4873-948f-448d553ed634",
   "metadata": {},
   "source": [
    "### Research Question"
   ]
  },
  {
   "cell_type": "markdown",
   "id": "ff4354a4-639a-4243-b538-67b867802a9a",
   "metadata": {},
   "source": [
    "Is there a relationship between total fare amount & payment type & can we nudge customer towards payment methods that generate higher revenue for drivers, without negatively impacting customer experience?"
   ]
  },
  {
   "cell_type": "markdown",
   "id": "23942904-f774-454c-a860-dcee12d3a5e4",
   "metadata": {},
   "source": [
    "## 1. Importing Libraries"
   ]
  },
  {
   "cell_type": "code",
   "execution_count": 11,
   "id": "e66b083f-cb40-4c02-961c-202292b05812",
   "metadata": {},
   "outputs": [],
   "source": [
    "import pandas as pd\n",
    "import numpy as np\n",
    "import matplotlib.pyplot as plt\n",
    "import seaborn as sns\n",
    "import scipy.stats as st"
   ]
  },
  {
   "cell_type": "markdown",
   "id": "754122f9-1843-42ae-a60f-2664e185ceda",
   "metadata": {},
   "source": [
    "## 2. Loading the dataset"
   ]
  },
  {
   "cell_type": "code",
   "execution_count": 12,
   "id": "2a0b21df-4f09-4e6e-a5f4-a77b4b076a21",
   "metadata": {},
   "outputs": [
    {
     "data": {
      "text/html": [
       "<div>\n",
       "<style scoped>\n",
       "    .dataframe tbody tr th:only-of-type {\n",
       "        vertical-align: middle;\n",
       "    }\n",
       "\n",
       "    .dataframe tbody tr th {\n",
       "        vertical-align: top;\n",
       "    }\n",
       "\n",
       "    .dataframe thead th {\n",
       "        text-align: right;\n",
       "    }\n",
       "</style>\n",
       "<table border=\"1\" class=\"dataframe\">\n",
       "  <thead>\n",
       "    <tr style=\"text-align: right;\">\n",
       "      <th></th>\n",
       "      <th>VendorID</th>\n",
       "      <th>tpep_pickup_datetime</th>\n",
       "      <th>tpep_dropoff_datetime</th>\n",
       "      <th>passenger_count</th>\n",
       "      <th>trip_distance</th>\n",
       "      <th>RatecodeID</th>\n",
       "      <th>store_and_fwd_flag</th>\n",
       "      <th>PULocationID</th>\n",
       "      <th>DOLocationID</th>\n",
       "      <th>payment_type</th>\n",
       "      <th>fare_amount</th>\n",
       "      <th>extra</th>\n",
       "      <th>mta_tax</th>\n",
       "      <th>tip_amount</th>\n",
       "      <th>tolls_amount</th>\n",
       "      <th>improvement_surcharge</th>\n",
       "      <th>total_amount</th>\n",
       "      <th>congestion_surcharge</th>\n",
       "    </tr>\n",
       "  </thead>\n",
       "  <tbody>\n",
       "    <tr>\n",
       "      <th>0</th>\n",
       "      <td>1</td>\n",
       "      <td>01-01-2020 00:28</td>\n",
       "      <td>01-01-2020 00:33</td>\n",
       "      <td>1</td>\n",
       "      <td>1.2</td>\n",
       "      <td>1</td>\n",
       "      <td>N</td>\n",
       "      <td>238</td>\n",
       "      <td>239</td>\n",
       "      <td>1</td>\n",
       "      <td>6.0</td>\n",
       "      <td>3.0</td>\n",
       "      <td>0.5</td>\n",
       "      <td>1.47</td>\n",
       "      <td>0.0</td>\n",
       "      <td>0.3</td>\n",
       "      <td>11.27</td>\n",
       "      <td>2.5</td>\n",
       "    </tr>\n",
       "    <tr>\n",
       "      <th>1</th>\n",
       "      <td>1</td>\n",
       "      <td>01-01-2020 00:35</td>\n",
       "      <td>01-01-2020 00:43</td>\n",
       "      <td>1</td>\n",
       "      <td>1.2</td>\n",
       "      <td>1</td>\n",
       "      <td>N</td>\n",
       "      <td>239</td>\n",
       "      <td>238</td>\n",
       "      <td>1</td>\n",
       "      <td>7.0</td>\n",
       "      <td>3.0</td>\n",
       "      <td>0.5</td>\n",
       "      <td>1.50</td>\n",
       "      <td>0.0</td>\n",
       "      <td>0.3</td>\n",
       "      <td>12.30</td>\n",
       "      <td>2.5</td>\n",
       "    </tr>\n",
       "    <tr>\n",
       "      <th>2</th>\n",
       "      <td>1</td>\n",
       "      <td>01-01-2020 00:47</td>\n",
       "      <td>01-01-2020 00:53</td>\n",
       "      <td>1</td>\n",
       "      <td>0.6</td>\n",
       "      <td>1</td>\n",
       "      <td>N</td>\n",
       "      <td>238</td>\n",
       "      <td>238</td>\n",
       "      <td>1</td>\n",
       "      <td>6.0</td>\n",
       "      <td>3.0</td>\n",
       "      <td>0.5</td>\n",
       "      <td>1.00</td>\n",
       "      <td>0.0</td>\n",
       "      <td>0.3</td>\n",
       "      <td>10.80</td>\n",
       "      <td>2.5</td>\n",
       "    </tr>\n",
       "    <tr>\n",
       "      <th>3</th>\n",
       "      <td>1</td>\n",
       "      <td>01-01-2020 00:55</td>\n",
       "      <td>01-01-2020 01:00</td>\n",
       "      <td>1</td>\n",
       "      <td>0.8</td>\n",
       "      <td>1</td>\n",
       "      <td>N</td>\n",
       "      <td>238</td>\n",
       "      <td>151</td>\n",
       "      <td>1</td>\n",
       "      <td>5.5</td>\n",
       "      <td>0.5</td>\n",
       "      <td>0.5</td>\n",
       "      <td>1.36</td>\n",
       "      <td>0.0</td>\n",
       "      <td>0.3</td>\n",
       "      <td>8.16</td>\n",
       "      <td>0.0</td>\n",
       "    </tr>\n",
       "    <tr>\n",
       "      <th>4</th>\n",
       "      <td>2</td>\n",
       "      <td>01-01-2020 00:01</td>\n",
       "      <td>01-01-2020 00:04</td>\n",
       "      <td>1</td>\n",
       "      <td>0.0</td>\n",
       "      <td>1</td>\n",
       "      <td>N</td>\n",
       "      <td>193</td>\n",
       "      <td>193</td>\n",
       "      <td>2</td>\n",
       "      <td>3.5</td>\n",
       "      <td>0.5</td>\n",
       "      <td>0.5</td>\n",
       "      <td>0.00</td>\n",
       "      <td>0.0</td>\n",
       "      <td>0.3</td>\n",
       "      <td>4.80</td>\n",
       "      <td>0.0</td>\n",
       "    </tr>\n",
       "  </tbody>\n",
       "</table>\n",
       "</div>"
      ],
      "text/plain": [
       "   VendorID tpep_pickup_datetime tpep_dropoff_datetime  passenger_count  \\\n",
       "0         1     01-01-2020 00:28      01-01-2020 00:33                1   \n",
       "1         1     01-01-2020 00:35      01-01-2020 00:43                1   \n",
       "2         1     01-01-2020 00:47      01-01-2020 00:53                1   \n",
       "3         1     01-01-2020 00:55      01-01-2020 01:00                1   \n",
       "4         2     01-01-2020 00:01      01-01-2020 00:04                1   \n",
       "\n",
       "   trip_distance  RatecodeID store_and_fwd_flag  PULocationID  DOLocationID  \\\n",
       "0            1.2           1                  N           238           239   \n",
       "1            1.2           1                  N           239           238   \n",
       "2            0.6           1                  N           238           238   \n",
       "3            0.8           1                  N           238           151   \n",
       "4            0.0           1                  N           193           193   \n",
       "\n",
       "   payment_type  fare_amount  extra  mta_tax  tip_amount  tolls_amount  \\\n",
       "0             1          6.0    3.0      0.5        1.47           0.0   \n",
       "1             1          7.0    3.0      0.5        1.50           0.0   \n",
       "2             1          6.0    3.0      0.5        1.00           0.0   \n",
       "3             1          5.5    0.5      0.5        1.36           0.0   \n",
       "4             2          3.5    0.5      0.5        0.00           0.0   \n",
       "\n",
       "   improvement_surcharge  total_amount  congestion_surcharge  \n",
       "0                    0.3         11.27                   2.5  \n",
       "1                    0.3         12.30                   2.5  \n",
       "2                    0.3         10.80                   2.5  \n",
       "3                    0.3          8.16                   0.0  \n",
       "4                    0.3          4.80                   0.0  "
      ]
     },
     "execution_count": 12,
     "metadata": {},
     "output_type": "execute_result"
    }
   ],
   "source": [
    "df = pd.read_csv(\"taxi_trip.csv\")\n",
    "df.head()"
   ]
  },
  {
   "cell_type": "markdown",
   "id": "a2b0cc1e-e15f-4160-8045-3727c61b9f5d",
   "metadata": {},
   "source": [
    "## 3. EDA"
   ]
  },
  {
   "cell_type": "code",
   "execution_count": 13,
   "id": "46129a8a-cba2-436e-ae3f-7355d1e6f060",
   "metadata": {},
   "outputs": [
    {
     "data": {
      "text/plain": [
       "(1048575, 18)"
      ]
     },
     "execution_count": 13,
     "metadata": {},
     "output_type": "execute_result"
    }
   ],
   "source": [
    "df.shape"
   ]
  },
  {
   "cell_type": "code",
   "execution_count": 14,
   "id": "8ae21e1c-bece-4a8b-9d71-b215c1e80c38",
   "metadata": {},
   "outputs": [
    {
     "data": {
      "text/plain": [
       "VendorID                   int64\n",
       "tpep_pickup_datetime      object\n",
       "tpep_dropoff_datetime     object\n",
       "passenger_count            int64\n",
       "trip_distance            float64\n",
       "RatecodeID                 int64\n",
       "store_and_fwd_flag        object\n",
       "PULocationID               int64\n",
       "DOLocationID               int64\n",
       "payment_type               int64\n",
       "fare_amount              float64\n",
       "extra                    float64\n",
       "mta_tax                  float64\n",
       "tip_amount               float64\n",
       "tolls_amount             float64\n",
       "improvement_surcharge    float64\n",
       "total_amount             float64\n",
       "congestion_surcharge     float64\n",
       "dtype: object"
      ]
     },
     "execution_count": 14,
     "metadata": {},
     "output_type": "execute_result"
    }
   ],
   "source": [
    "df.dtypes"
   ]
  },
  {
   "cell_type": "code",
   "execution_count": 15,
   "id": "241f33d2-29ab-4e14-b847-ca3ef1b18f4f",
   "metadata": {},
   "outputs": [
    {
     "name": "stdout",
     "output_type": "stream",
     "text": [
      "Datetime conversion successful.\n",
      "Data Types After Conversion:\n",
      "tpep_pickup_datetime     datetime64[ns]\n",
      "tpep_dropoff_datetime    datetime64[ns]\n",
      "dtype: object\n"
     ]
    }
   ],
   "source": [
    "try:\n",
    "    df[\"tpep_pickup_datetime\"] = pd.to_datetime(df[\"tpep_pickup_datetime\"], dayfirst=True)\n",
    "    df[\"tpep_dropoff_datetime\"] = pd.to_datetime(df[\"tpep_dropoff_datetime\"], dayfirst=True)\n",
    "    print(\"Datetime conversion successful.\")\n",
    "except Exception as e:\n",
    "    print(\"Error in datetime conversion:\", e)\n",
    "\n",
    "print(\"Data Types After Conversion:\")\n",
    "print(df[[\"tpep_pickup_datetime\", \"tpep_dropoff_datetime\"]].dtypes)"
   ]
  },
  {
   "cell_type": "markdown",
   "id": "565a5762-6100-4cad-857c-01fcde365020",
   "metadata": {},
   "source": [
    "- The try-except block ensures that if there is an error during the datetime conversion (e.g., due to incorrect format), it will be caught and printed without crashing the program.\n",
    "- After conversion, checking the data types confirms that the specified columns have been successfully converted to datetime64[ns]. This is essential for time-based analysis and calculations."
   ]
  },
  {
   "cell_type": "code",
   "execution_count": 16,
   "id": "ed5783bd-616d-48a4-9d3e-4e2995906f61",
   "metadata": {},
   "outputs": [
    {
     "name": "stdout",
     "output_type": "stream",
     "text": [
      "Duration calculation successful.\n"
     ]
    },
    {
     "data": {
      "text/html": [
       "<div>\n",
       "<style scoped>\n",
       "    .dataframe tbody tr th:only-of-type {\n",
       "        vertical-align: middle;\n",
       "    }\n",
       "\n",
       "    .dataframe tbody tr th {\n",
       "        vertical-align: top;\n",
       "    }\n",
       "\n",
       "    .dataframe thead th {\n",
       "        text-align: right;\n",
       "    }\n",
       "</style>\n",
       "<table border=\"1\" class=\"dataframe\">\n",
       "  <thead>\n",
       "    <tr style=\"text-align: right;\">\n",
       "      <th></th>\n",
       "      <th>VendorID</th>\n",
       "      <th>tpep_pickup_datetime</th>\n",
       "      <th>tpep_dropoff_datetime</th>\n",
       "      <th>passenger_count</th>\n",
       "      <th>trip_distance</th>\n",
       "      <th>RatecodeID</th>\n",
       "      <th>store_and_fwd_flag</th>\n",
       "      <th>PULocationID</th>\n",
       "      <th>DOLocationID</th>\n",
       "      <th>payment_type</th>\n",
       "      <th>fare_amount</th>\n",
       "      <th>extra</th>\n",
       "      <th>mta_tax</th>\n",
       "      <th>tip_amount</th>\n",
       "      <th>tolls_amount</th>\n",
       "      <th>improvement_surcharge</th>\n",
       "      <th>total_amount</th>\n",
       "      <th>congestion_surcharge</th>\n",
       "      <th>duration</th>\n",
       "    </tr>\n",
       "  </thead>\n",
       "  <tbody>\n",
       "    <tr>\n",
       "      <th>0</th>\n",
       "      <td>1</td>\n",
       "      <td>2020-01-01 00:28:00</td>\n",
       "      <td>2020-01-01 00:33:00</td>\n",
       "      <td>1</td>\n",
       "      <td>1.2</td>\n",
       "      <td>1</td>\n",
       "      <td>N</td>\n",
       "      <td>238</td>\n",
       "      <td>239</td>\n",
       "      <td>1</td>\n",
       "      <td>6.0</td>\n",
       "      <td>3.0</td>\n",
       "      <td>0.5</td>\n",
       "      <td>1.47</td>\n",
       "      <td>0.0</td>\n",
       "      <td>0.3</td>\n",
       "      <td>11.27</td>\n",
       "      <td>2.5</td>\n",
       "      <td>5.0</td>\n",
       "    </tr>\n",
       "    <tr>\n",
       "      <th>1</th>\n",
       "      <td>1</td>\n",
       "      <td>2020-01-01 00:35:00</td>\n",
       "      <td>2020-01-01 00:43:00</td>\n",
       "      <td>1</td>\n",
       "      <td>1.2</td>\n",
       "      <td>1</td>\n",
       "      <td>N</td>\n",
       "      <td>239</td>\n",
       "      <td>238</td>\n",
       "      <td>1</td>\n",
       "      <td>7.0</td>\n",
       "      <td>3.0</td>\n",
       "      <td>0.5</td>\n",
       "      <td>1.50</td>\n",
       "      <td>0.0</td>\n",
       "      <td>0.3</td>\n",
       "      <td>12.30</td>\n",
       "      <td>2.5</td>\n",
       "      <td>8.0</td>\n",
       "    </tr>\n",
       "    <tr>\n",
       "      <th>2</th>\n",
       "      <td>1</td>\n",
       "      <td>2020-01-01 00:47:00</td>\n",
       "      <td>2020-01-01 00:53:00</td>\n",
       "      <td>1</td>\n",
       "      <td>0.6</td>\n",
       "      <td>1</td>\n",
       "      <td>N</td>\n",
       "      <td>238</td>\n",
       "      <td>238</td>\n",
       "      <td>1</td>\n",
       "      <td>6.0</td>\n",
       "      <td>3.0</td>\n",
       "      <td>0.5</td>\n",
       "      <td>1.00</td>\n",
       "      <td>0.0</td>\n",
       "      <td>0.3</td>\n",
       "      <td>10.80</td>\n",
       "      <td>2.5</td>\n",
       "      <td>6.0</td>\n",
       "    </tr>\n",
       "    <tr>\n",
       "      <th>3</th>\n",
       "      <td>1</td>\n",
       "      <td>2020-01-01 00:55:00</td>\n",
       "      <td>2020-01-01 01:00:00</td>\n",
       "      <td>1</td>\n",
       "      <td>0.8</td>\n",
       "      <td>1</td>\n",
       "      <td>N</td>\n",
       "      <td>238</td>\n",
       "      <td>151</td>\n",
       "      <td>1</td>\n",
       "      <td>5.5</td>\n",
       "      <td>0.5</td>\n",
       "      <td>0.5</td>\n",
       "      <td>1.36</td>\n",
       "      <td>0.0</td>\n",
       "      <td>0.3</td>\n",
       "      <td>8.16</td>\n",
       "      <td>0.0</td>\n",
       "      <td>5.0</td>\n",
       "    </tr>\n",
       "    <tr>\n",
       "      <th>4</th>\n",
       "      <td>2</td>\n",
       "      <td>2020-01-01 00:01:00</td>\n",
       "      <td>2020-01-01 00:04:00</td>\n",
       "      <td>1</td>\n",
       "      <td>0.0</td>\n",
       "      <td>1</td>\n",
       "      <td>N</td>\n",
       "      <td>193</td>\n",
       "      <td>193</td>\n",
       "      <td>2</td>\n",
       "      <td>3.5</td>\n",
       "      <td>0.5</td>\n",
       "      <td>0.5</td>\n",
       "      <td>0.00</td>\n",
       "      <td>0.0</td>\n",
       "      <td>0.3</td>\n",
       "      <td>4.80</td>\n",
       "      <td>0.0</td>\n",
       "      <td>3.0</td>\n",
       "    </tr>\n",
       "  </tbody>\n",
       "</table>\n",
       "</div>"
      ],
      "text/plain": [
       "   VendorID tpep_pickup_datetime tpep_dropoff_datetime  passenger_count  \\\n",
       "0         1  2020-01-01 00:28:00   2020-01-01 00:33:00                1   \n",
       "1         1  2020-01-01 00:35:00   2020-01-01 00:43:00                1   \n",
       "2         1  2020-01-01 00:47:00   2020-01-01 00:53:00                1   \n",
       "3         1  2020-01-01 00:55:00   2020-01-01 01:00:00                1   \n",
       "4         2  2020-01-01 00:01:00   2020-01-01 00:04:00                1   \n",
       "\n",
       "   trip_distance  RatecodeID store_and_fwd_flag  PULocationID  DOLocationID  \\\n",
       "0            1.2           1                  N           238           239   \n",
       "1            1.2           1                  N           239           238   \n",
       "2            0.6           1                  N           238           238   \n",
       "3            0.8           1                  N           238           151   \n",
       "4            0.0           1                  N           193           193   \n",
       "\n",
       "   payment_type  fare_amount  extra  mta_tax  tip_amount  tolls_amount  \\\n",
       "0             1          6.0    3.0      0.5        1.47           0.0   \n",
       "1             1          7.0    3.0      0.5        1.50           0.0   \n",
       "2             1          6.0    3.0      0.5        1.00           0.0   \n",
       "3             1          5.5    0.5      0.5        1.36           0.0   \n",
       "4             2          3.5    0.5      0.5        0.00           0.0   \n",
       "\n",
       "   improvement_surcharge  total_amount  congestion_surcharge  duration  \n",
       "0                    0.3         11.27                   2.5       5.0  \n",
       "1                    0.3         12.30                   2.5       8.0  \n",
       "2                    0.3         10.80                   2.5       6.0  \n",
       "3                    0.3          8.16                   0.0       5.0  \n",
       "4                    0.3          4.80                   0.0       3.0  "
      ]
     },
     "execution_count": 16,
     "metadata": {},
     "output_type": "execute_result"
    }
   ],
   "source": [
    "# Ensure that datetime conversion was successful before calculating duration\n",
    "if \"tpep_pickup_datetime\" in df.columns and \"tpep_dropoff_datetime\" in df.columns:\n",
    "    df[\"duration\"] = df[\"tpep_dropoff_datetime\"] - df[\"tpep_pickup_datetime\"]\n",
    "    df[\"duration\"] = df[\"duration\"].dt.total_seconds() / 60\n",
    "    print(\"Duration calculation successful.\")\n",
    "else:\n",
    "    print(\"Datetime columns are missing. Cannot calculate duration.\")\n",
    "\n",
    "# Display the first 5 rows to check the result\n",
    "df[:5]"
   ]
  },
  {
   "cell_type": "code",
   "execution_count": 17,
   "id": "6ca2eed6-17ac-4578-b777-4588ebeabba8",
   "metadata": {},
   "outputs": [
    {
     "data": {
      "text/html": [
       "<div>\n",
       "<style scoped>\n",
       "    .dataframe tbody tr th:only-of-type {\n",
       "        vertical-align: middle;\n",
       "    }\n",
       "\n",
       "    .dataframe tbody tr th {\n",
       "        vertical-align: top;\n",
       "    }\n",
       "\n",
       "    .dataframe thead th {\n",
       "        text-align: right;\n",
       "    }\n",
       "</style>\n",
       "<table border=\"1\" class=\"dataframe\">\n",
       "  <thead>\n",
       "    <tr style=\"text-align: right;\">\n",
       "      <th></th>\n",
       "      <th>passenger_count</th>\n",
       "      <th>payment_type</th>\n",
       "      <th>fare_amount</th>\n",
       "      <th>trip_distance</th>\n",
       "      <th>duration</th>\n",
       "    </tr>\n",
       "  </thead>\n",
       "  <tbody>\n",
       "    <tr>\n",
       "      <th>0</th>\n",
       "      <td>1</td>\n",
       "      <td>1</td>\n",
       "      <td>6.0</td>\n",
       "      <td>1.2</td>\n",
       "      <td>5.0</td>\n",
       "    </tr>\n",
       "    <tr>\n",
       "      <th>1</th>\n",
       "      <td>1</td>\n",
       "      <td>1</td>\n",
       "      <td>7.0</td>\n",
       "      <td>1.2</td>\n",
       "      <td>8.0</td>\n",
       "    </tr>\n",
       "    <tr>\n",
       "      <th>2</th>\n",
       "      <td>1</td>\n",
       "      <td>1</td>\n",
       "      <td>6.0</td>\n",
       "      <td>0.6</td>\n",
       "      <td>6.0</td>\n",
       "    </tr>\n",
       "    <tr>\n",
       "      <th>3</th>\n",
       "      <td>1</td>\n",
       "      <td>1</td>\n",
       "      <td>5.5</td>\n",
       "      <td>0.8</td>\n",
       "      <td>5.0</td>\n",
       "    </tr>\n",
       "    <tr>\n",
       "      <th>4</th>\n",
       "      <td>1</td>\n",
       "      <td>2</td>\n",
       "      <td>3.5</td>\n",
       "      <td>0.0</td>\n",
       "      <td>3.0</td>\n",
       "    </tr>\n",
       "  </tbody>\n",
       "</table>\n",
       "</div>"
      ],
      "text/plain": [
       "   passenger_count  payment_type  fare_amount  trip_distance  duration\n",
       "0                1             1          6.0            1.2       5.0\n",
       "1                1             1          7.0            1.2       8.0\n",
       "2                1             1          6.0            0.6       6.0\n",
       "3                1             1          5.5            0.8       5.0\n",
       "4                1             2          3.5            0.0       3.0"
      ]
     },
     "execution_count": 17,
     "metadata": {},
     "output_type": "execute_result"
    }
   ],
   "source": [
    "# Filter to keep only relevant columns\n",
    "df = df[[\"passenger_count\", \"payment_type\", \"fare_amount\", \"trip_distance\", \"duration\"]]\n",
    "df[:5]"
   ]
  },
  {
   "cell_type": "code",
   "execution_count": 18,
   "id": "8f2f4cde-5f72-421f-8cff-049c1beda627",
   "metadata": {},
   "outputs": [
    {
     "data": {
      "text/plain": [
       "passenger_count    0\n",
       "payment_type       0\n",
       "fare_amount        0\n",
       "trip_distance      0\n",
       "duration           0\n",
       "dtype: int64"
      ]
     },
     "execution_count": 18,
     "metadata": {},
     "output_type": "execute_result"
    }
   ],
   "source": [
    "df.isnull().sum()"
   ]
  },
  {
   "cell_type": "markdown",
   "id": "357043e3-8b92-4433-856f-02c0049ffe28",
   "metadata": {},
   "source": [
    "Percentage of data containing null values = [null_value_counts / len(df)] * 100"
   ]
  },
  {
   "cell_type": "markdown",
   "id": "649adadb-a8c2-4fb3-8c34-519b6e6ae7cd",
   "metadata": {},
   "source": [
    "Remove any rows in a dataframe that contain missing values: df.dropna(inplace=True)"
   ]
  },
  {
   "cell_type": "markdown",
   "id": "7bd13b2f-68f9-45da-a5f0-6a829b6407a6",
   "metadata": {},
   "source": [
    "To convert float dtype to int dtype: df[\"passenger_count\"] = df[\"passenger_count\"].astype(\"int64\")"
   ]
  },
  {
   "cell_type": "code",
   "execution_count": 19,
   "id": "465d8e66-a0c7-4845-ad06-6ac5aef371e1",
   "metadata": {},
   "outputs": [
    {
     "data": {
      "text/plain": [
       "767744"
      ]
     },
     "execution_count": 19,
     "metadata": {},
     "output_type": "execute_result"
    }
   ],
   "source": [
    "duplicates = df[df.duplicated()]\n",
    "\n",
    "num_duplicates = duplicates.shape[0]\n",
    "num_duplicates"
   ]
  },
  {
   "cell_type": "code",
   "execution_count": 20,
   "id": "795ba082-e451-479f-84ba-3ac89fb81200",
   "metadata": {},
   "outputs": [
    {
     "name": "stdout",
     "output_type": "stream",
     "text": [
      "Shape before dropping duplicates: (1048575, 5)\n",
      "Shape after dropping duplicates: (280831, 5)\n"
     ]
    }
   ],
   "source": [
    "# Check the number of rows before dropping duplicates\n",
    "print(\"Shape before dropping duplicates:\", df.shape)\n",
    "\n",
    "# Drop duplicate rows\n",
    "df.drop_duplicates(inplace=True)\n",
    "\n",
    "# Check the number of rows after dropping duplicates\n",
    "print(\"Shape after dropping duplicates:\", df.shape)"
   ]
  },
  {
   "cell_type": "code",
   "execution_count": 21,
   "id": "33bcce7a-d0d7-4030-8f91-f1067f7394de",
   "metadata": {},
   "outputs": [
    {
     "data": {
      "text/plain": [
       "passenger_count\n",
       "1    0.498788\n",
       "2    0.206594\n",
       "3    0.087522\n",
       "5    0.074632\n",
       "4    0.059189\n",
       "6    0.050974\n",
       "0    0.022230\n",
       "7    0.000036\n",
       "8    0.000021\n",
       "9    0.000014\n",
       "Name: proportion, dtype: float64"
      ]
     },
     "execution_count": 21,
     "metadata": {},
     "output_type": "execute_result"
    }
   ],
   "source": [
    "# Percentage of each passenger count category\n",
    "passenger_count_distribution = df[\"passenger_count\"].value_counts(normalize=True)\n",
    "passenger_count_distribution"
   ]
  },
  {
   "cell_type": "code",
   "execution_count": 22,
   "id": "ec091129-91f0-4470-a471-9bfee13f8a51",
   "metadata": {},
   "outputs": [
    {
     "name": "stdout",
     "output_type": "stream",
     "text": [
      "Payment Type Distribution:\n",
      " payment_type\n",
      "1    0.598128\n",
      "2    0.379306\n",
      "3    0.013296\n",
      "4    0.009269\n",
      "Name: proportion, dtype: float64\n"
     ]
    }
   ],
   "source": [
    "# Percentage share of each payment type\n",
    "payment_type_distribution = df[\"payment_type\"].value_counts(normalize=True)\n",
    "print(\"Payment Type Distribution:\\n\", payment_type_distribution)"
   ]
  },
  {
   "cell_type": "code",
   "execution_count": 23,
   "id": "d05944a6-febe-4a44-af15-8a5c95bbe7dd",
   "metadata": {},
   "outputs": [
    {
     "name": "stdout",
     "output_type": "stream",
     "text": [
      "DataFrame shape after filtering: (254311, 5)\n"
     ]
    }
   ],
   "source": [
    "# Filter payment types and passenger counts\n",
    "df = df[(df[\"payment_type\"] < 3) & (df[\"passenger_count\"] > 0) & (df[\"passenger_count\"] < 6)]\n",
    "\n",
    "# Output the shape of the DataFrame after filtering\n",
    "print(\"DataFrame shape after filtering:\", df.shape)"
   ]
  },
  {
   "cell_type": "code",
   "execution_count": 24,
   "id": "d11e39b2-6749-44d4-92a5-0115a6c4c90f",
   "metadata": {},
   "outputs": [
    {
     "data": {
      "text/plain": [
       "(254311, 5)"
      ]
     },
     "execution_count": 24,
     "metadata": {},
     "output_type": "execute_result"
    }
   ],
   "source": [
    "df.shape"
   ]
  },
  {
   "cell_type": "code",
   "execution_count": 25,
   "id": "8cf9b917-0c34-40f2-800f-585cbe1c00df",
   "metadata": {},
   "outputs": [
    {
     "data": {
      "text/html": [
       "<div>\n",
       "<style scoped>\n",
       "    .dataframe tbody tr th:only-of-type {\n",
       "        vertical-align: middle;\n",
       "    }\n",
       "\n",
       "    .dataframe tbody tr th {\n",
       "        vertical-align: top;\n",
       "    }\n",
       "\n",
       "    .dataframe thead th {\n",
       "        text-align: right;\n",
       "    }\n",
       "</style>\n",
       "<table border=\"1\" class=\"dataframe\">\n",
       "  <thead>\n",
       "    <tr style=\"text-align: right;\">\n",
       "      <th></th>\n",
       "      <th>passenger_count</th>\n",
       "      <th>payment_type</th>\n",
       "      <th>fare_amount</th>\n",
       "      <th>trip_distance</th>\n",
       "      <th>duration</th>\n",
       "    </tr>\n",
       "  </thead>\n",
       "  <tbody>\n",
       "    <tr>\n",
       "      <th>0</th>\n",
       "      <td>1</td>\n",
       "      <td>Card</td>\n",
       "      <td>6.0</td>\n",
       "      <td>1.2</td>\n",
       "      <td>5.0</td>\n",
       "    </tr>\n",
       "    <tr>\n",
       "      <th>1</th>\n",
       "      <td>1</td>\n",
       "      <td>Card</td>\n",
       "      <td>7.0</td>\n",
       "      <td>1.2</td>\n",
       "      <td>8.0</td>\n",
       "    </tr>\n",
       "    <tr>\n",
       "      <th>2</th>\n",
       "      <td>1</td>\n",
       "      <td>Card</td>\n",
       "      <td>6.0</td>\n",
       "      <td>0.6</td>\n",
       "      <td>6.0</td>\n",
       "    </tr>\n",
       "    <tr>\n",
       "      <th>3</th>\n",
       "      <td>1</td>\n",
       "      <td>Card</td>\n",
       "      <td>5.5</td>\n",
       "      <td>0.8</td>\n",
       "      <td>5.0</td>\n",
       "    </tr>\n",
       "    <tr>\n",
       "      <th>4</th>\n",
       "      <td>1</td>\n",
       "      <td>Cash</td>\n",
       "      <td>3.5</td>\n",
       "      <td>0.0</td>\n",
       "      <td>3.0</td>\n",
       "    </tr>\n",
       "  </tbody>\n",
       "</table>\n",
       "</div>"
      ],
      "text/plain": [
       "   passenger_count payment_type  fare_amount  trip_distance  duration\n",
       "0                1         Card          6.0            1.2       5.0\n",
       "1                1         Card          7.0            1.2       8.0\n",
       "2                1         Card          6.0            0.6       6.0\n",
       "3                1         Card          5.5            0.8       5.0\n",
       "4                1         Cash          3.5            0.0       3.0"
      ]
     },
     "execution_count": 25,
     "metadata": {},
     "output_type": "execute_result"
    }
   ],
   "source": [
    "df[\"payment_type\"] = df[\"payment_type\"].replace({1: \"Card\", 2: \"Cash\"})\n",
    "df[:5]"
   ]
  },
  {
   "cell_type": "markdown",
   "id": "1fab28f8-0e73-4f46-b3af-97a6f03faadf",
   "metadata": {},
   "source": [
    "## 4. Data Visualization"
   ]
  },
  {
   "cell_type": "code",
   "execution_count": 26,
   "id": "6f4c778b-2112-49ec-8195-57299b3ec368",
   "metadata": {},
   "outputs": [
    {
     "data": {
      "text/html": [
       "<div>\n",
       "<style scoped>\n",
       "    .dataframe tbody tr th:only-of-type {\n",
       "        vertical-align: middle;\n",
       "    }\n",
       "\n",
       "    .dataframe tbody tr th {\n",
       "        vertical-align: top;\n",
       "    }\n",
       "\n",
       "    .dataframe thead th {\n",
       "        text-align: right;\n",
       "    }\n",
       "</style>\n",
       "<table border=\"1\" class=\"dataframe\">\n",
       "  <thead>\n",
       "    <tr style=\"text-align: right;\">\n",
       "      <th></th>\n",
       "      <th>passenger_count</th>\n",
       "      <th>fare_amount</th>\n",
       "      <th>trip_distance</th>\n",
       "      <th>duration</th>\n",
       "    </tr>\n",
       "  </thead>\n",
       "  <tbody>\n",
       "    <tr>\n",
       "      <th>count</th>\n",
       "      <td>254311.000000</td>\n",
       "      <td>254311.000000</td>\n",
       "      <td>254311.000000</td>\n",
       "      <td>254311.000000</td>\n",
       "    </tr>\n",
       "    <tr>\n",
       "      <th>mean</th>\n",
       "      <td>1.934462</td>\n",
       "      <td>23.757477</td>\n",
       "      <td>6.680553</td>\n",
       "      <td>33.970591</td>\n",
       "    </tr>\n",
       "    <tr>\n",
       "      <th>std</th>\n",
       "      <td>1.273179</td>\n",
       "      <td>18.712789</td>\n",
       "      <td>6.081747</td>\n",
       "      <td>133.525464</td>\n",
       "    </tr>\n",
       "    <tr>\n",
       "      <th>min</th>\n",
       "      <td>1.000000</td>\n",
       "      <td>-500.000000</td>\n",
       "      <td>-22.180000</td>\n",
       "      <td>-2770.000000</td>\n",
       "    </tr>\n",
       "    <tr>\n",
       "      <th>25%</th>\n",
       "      <td>1.000000</td>\n",
       "      <td>11.500000</td>\n",
       "      <td>2.230000</td>\n",
       "      <td>12.000000</td>\n",
       "    </tr>\n",
       "    <tr>\n",
       "      <th>50%</th>\n",
       "      <td>1.000000</td>\n",
       "      <td>18.000000</td>\n",
       "      <td>4.550000</td>\n",
       "      <td>19.000000</td>\n",
       "    </tr>\n",
       "    <tr>\n",
       "      <th>75%</th>\n",
       "      <td>2.000000</td>\n",
       "      <td>31.000000</td>\n",
       "      <td>9.380000</td>\n",
       "      <td>28.000000</td>\n",
       "    </tr>\n",
       "    <tr>\n",
       "      <th>max</th>\n",
       "      <td>5.000000</td>\n",
       "      <td>1238.000000</td>\n",
       "      <td>259.220000</td>\n",
       "      <td>4168.000000</td>\n",
       "    </tr>\n",
       "  </tbody>\n",
       "</table>\n",
       "</div>"
      ],
      "text/plain": [
       "       passenger_count    fare_amount  trip_distance       duration\n",
       "count    254311.000000  254311.000000  254311.000000  254311.000000\n",
       "mean          1.934462      23.757477       6.680553      33.970591\n",
       "std           1.273179      18.712789       6.081747     133.525464\n",
       "min           1.000000    -500.000000     -22.180000   -2770.000000\n",
       "25%           1.000000      11.500000       2.230000      12.000000\n",
       "50%           1.000000      18.000000       4.550000      19.000000\n",
       "75%           2.000000      31.000000       9.380000      28.000000\n",
       "max           5.000000    1238.000000     259.220000    4168.000000"
      ]
     },
     "execution_count": 26,
     "metadata": {},
     "output_type": "execute_result"
    }
   ],
   "source": [
    "df.describe()"
   ]
  },
  {
   "cell_type": "code",
   "execution_count": 27,
   "id": "20db1261-7625-496d-a606-0c0f403358c6",
   "metadata": {},
   "outputs": [
    {
     "name": "stdout",
     "output_type": "stream",
     "text": [
      "Original DataFrame shape: (254311, 5)\n",
      "Filtered DataFrame shape: (250166, 5)\n"
     ]
    }
   ],
   "source": [
    "print(\"Original DataFrame shape:\", df.shape)\n",
    "# Perform filtering\n",
    "df = df[df[\"fare_amount\"] > 0]\n",
    "df = df[df[\"trip_distance\"] > 0]\n",
    "df = df[df[\"duration\"] > 0]\n",
    "print(\"Filtered DataFrame shape:\", df.shape)"
   ]
  },
  {
   "cell_type": "code",
   "execution_count": 28,
   "id": "9a5d56de-5c8a-4b16-833b-e50e69ad3e8c",
   "metadata": {},
   "outputs": [
    {
     "data": {
      "image/png": "[encoded data removed]",
      "text/plain": [
       "<Figure size 640x480 with 1 Axes>"
      ]
     },
     "metadata": {},
     "output_type": "display_data"
    }
   ],
   "source": [
    "plt.boxplot(df[\"fare_amount\"], patch_artist=True, boxprops=dict(facecolor='lightblue'))\n",
    "plt.title(\"Box Plot of Fare Amounts\")\n",
    "plt.ylabel(\"Fare Amount\")\n",
    "plt.grid(axis='y')\n",
    "plt.show()"
   ]
  },
  {
   "cell_type": "code",
   "execution_count": 29,
   "id": "f2502b8d-4c2e-48ef-9e5c-b75228449585",
   "metadata": {},
   "outputs": [],
   "source": [
    "def remove_outliers(df, cols):\n",
    "    for col in cols:\n",
    "        q1 = df[col].quantile(0.25)\n",
    "        q3 = df[col].quantile(0.75)\n",
    "        iqr = q3 - q1\n",
    "        lb = q1 - 1.5 * iqr\n",
    "        ub = q3 + 1.5 * iqr\n",
    "        df = df[(df[col] >= lb) & (df[col] <= ub)]\n",
    "    return df\n",
    "\n",
    "df = remove_outliers(df, [\"fare_amount\", \"trip_distance\", \"duration\"])"
   ]
  },
  {
   "cell_type": "code",
   "execution_count": 30,
   "id": "c60eacbe-4471-44bb-ab2e-73b876b1397f",
   "metadata": {},
   "outputs": [
    {
     "data": {
      "text/plain": [
       "(228074, 5)"
      ]
     },
     "execution_count": 30,
     "metadata": {},
     "output_type": "execute_result"
    }
   ],
   "source": [
    "df.shape"
   ]
  },
  {
   "cell_type": "code",
   "execution_count": 31,
   "id": "6b7140e0-f17a-468c-9ac4-3899ce4f5048",
   "metadata": {},
   "outputs": [
    {
     "data": {
      "image/png": "[encoded data removed]",
      "text/plain": [
       "<Figure size 1200x500 with 2 Axes>"
      ]
     },
     "metadata": {},
     "output_type": "display_data"
    }
   ],
   "source": [
    "plt.figure(figsize=(12, 5))\n",
    "\n",
    "# Subplot for Fare Amount Distribution\n",
    "plt.subplot(1, 2, 1)\n",
    "plt.title(\"Distribution of Fare Amount\")\n",
    "plt.xlabel(\"Fare Amount\")\n",
    "plt.ylabel(\"Frequency\")\n",
    "plt.hist(df[df[\"payment_type\"] == \"Card\"][\"fare_amount\"], \n",
    "         histtype=\"barstacked\", bins=20, edgecolor=\"k\", color=\"#FA643F\", label=\"Card\")\n",
    "plt.hist(df[df[\"payment_type\"] == \"Cash\"][\"fare_amount\"], \n",
    "         histtype=\"barstacked\", bins=20, edgecolor=\"k\", color=\"#FFBCAB\", label=\"Cash\")\n",
    "plt.legend()\n",
    "plt.grid(axis='y')\n",
    "\n",
    "# Subplot for Trip Distance Distribution\n",
    "plt.subplot(1, 2, 2)\n",
    "plt.title(\"Distribution of Trip Distance\")\n",
    "plt.xlabel(\"Trip Distance\")\n",
    "plt.ylabel(\"Frequency\")\n",
    "plt.hist(df[df[\"payment_type\"] == \"Card\"][\"trip_distance\"], \n",
    "         histtype=\"barstacked\", bins=20, edgecolor=\"k\", color=\"#FA643F\", label=\"Card\")\n",
    "plt.hist(df[df[\"payment_type\"] == \"Cash\"][\"trip_distance\"], \n",
    "         histtype=\"barstacked\", bins=20, edgecolor=\"k\", color=\"#FFBCAB\", label=\"Cash\")\n",
    "plt.legend()\n",
    "plt.grid(axis='y')\n",
    "\n",
    "plt.tight_layout()\n",
    "plt.show()"
   ]
  },
  {
   "cell_type": "code",
   "execution_count": 32,
   "id": "1586146c-cfdb-456c-ae5c-46eea5916c5c",
   "metadata": {},
   "outputs": [
    {
     "data": {
      "text/html": [
       "<div>\n",
       "<style scoped>\n",
       "    .dataframe tbody tr th:only-of-type {\n",
       "        vertical-align: middle;\n",
       "    }\n",
       "\n",
       "    .dataframe tbody tr th {\n",
       "        vertical-align: top;\n",
       "    }\n",
       "\n",
       "    .dataframe thead tr th {\n",
       "        text-align: left;\n",
       "    }\n",
       "\n",
       "    .dataframe thead tr:last-of-type th {\n",
       "        text-align: right;\n",
       "    }\n",
       "</style>\n",
       "<table border=\"1\" class=\"dataframe\">\n",
       "  <thead>\n",
       "    <tr>\n",
       "      <th></th>\n",
       "      <th colspan=\"2\" halign=\"left\">fare_amount</th>\n",
       "      <th colspan=\"2\" halign=\"left\">trip_distance</th>\n",
       "    </tr>\n",
       "    <tr>\n",
       "      <th></th>\n",
       "      <th>mean</th>\n",
       "      <th>std</th>\n",
       "      <th>mean</th>\n",
       "      <th>std</th>\n",
       "    </tr>\n",
       "    <tr>\n",
       "      <th>payment_type</th>\n",
       "      <th></th>\n",
       "      <th></th>\n",
       "      <th></th>\n",
       "      <th></th>\n",
       "    </tr>\n",
       "  </thead>\n",
       "  <tbody>\n",
       "    <tr>\n",
       "      <th>Card</th>\n",
       "      <td>21.674544</td>\n",
       "      <td>13.285944</td>\n",
       "      <td>6.091676</td>\n",
       "      <td>4.797795</td>\n",
       "    </tr>\n",
       "    <tr>\n",
       "      <th>Cash</th>\n",
       "      <td>18.745741</td>\n",
       "      <td>11.755330</td>\n",
       "      <td>5.171730</td>\n",
       "      <td>4.342421</td>\n",
       "    </tr>\n",
       "  </tbody>\n",
       "</table>\n",
       "</div>"
      ],
      "text/plain": [
       "             fare_amount            trip_distance          \n",
       "                    mean        std          mean       std\n",
       "payment_type                                               \n",
       "Card           21.674544  13.285944      6.091676  4.797795\n",
       "Cash           18.745741  11.755330      5.171730  4.342421"
      ]
     },
     "execution_count": 32,
     "metadata": {},
     "output_type": "execute_result"
    }
   ],
   "source": [
    "# Group by payment_type and calculate mean and standard deviation for fare_amount and trip_distance\n",
    "payment_stats = df.groupby(\"payment_type\").agg({\n",
    "    \"fare_amount\": [\"mean\", \"std\"], \n",
    "    \"trip_distance\": [\"mean\", \"std\"]\n",
    "})\n",
    "\n",
    "payment_stats"
   ]
  },
  {
   "cell_type": "code",
   "execution_count": 33,
   "id": "b10be81f-8089-46c6-a9a5-64bc51890b6d",
   "metadata": {},
   "outputs": [
    {
     "data": {
      "image/png": "[encoded data removed]",
      "text/plain": [
       "<Figure size 1000x500 with 1 Axes>"
      ]
     },
     "metadata": {},
     "output_type": "display_data"
    }
   ],
   "source": [
    "plt.figure(figsize=(10, 5))\n",
    "plt.title(\"Preference of Payment Type\")\n",
    "plt.pie(\n",
    "    df[\"payment_type\"].value_counts(normalize=True),\n",
    "    labels=df[\"payment_type\"].value_counts().index,\n",
    "    startangle=90,\n",
    "    shadow=True,\n",
    "    autopct=\"%1.1f%%\",\n",
    "    colors=[\"#FA643F\", \"#FFBCAB\"]\n",
    ")\n",
    "plt.axis('equal')  # Equal aspect ratio ensures that pie is drawn as a circle.\n",
    "plt.show()"
   ]
  },
  {
   "cell_type": "code",
   "execution_count": 34,
   "id": "f40079b8-46df-4ce4-824f-b09d36d2b831",
   "metadata": {},
   "outputs": [],
   "source": [
    "passenger_count = df.groupby([\"payment_type\", \"passenger_count\"]).size().reset_index(name='count')"
   ]
  },
  {
   "cell_type": "code",
   "execution_count": 35,
   "id": "e1f94847-637f-4542-bd6c-c48907b36f7e",
   "metadata": {},
   "outputs": [
    {
     "data": {
      "text/html": [
       "<div>\n",
       "<style scoped>\n",
       "    .dataframe tbody tr th:only-of-type {\n",
       "        vertical-align: middle;\n",
       "    }\n",
       "\n",
       "    .dataframe tbody tr th {\n",
       "        vertical-align: top;\n",
       "    }\n",
       "\n",
       "    .dataframe thead th {\n",
       "        text-align: right;\n",
       "    }\n",
       "</style>\n",
       "<table border=\"1\" class=\"dataframe\">\n",
       "  <thead>\n",
       "    <tr style=\"text-align: right;\">\n",
       "      <th></th>\n",
       "      <th>payment_type</th>\n",
       "      <th>passenger_count</th>\n",
       "      <th>count</th>\n",
       "      <th>perc</th>\n",
       "    </tr>\n",
       "  </thead>\n",
       "  <tbody>\n",
       "    <tr>\n",
       "      <th>0</th>\n",
       "      <td>Card</td>\n",
       "      <td>1</td>\n",
       "      <td>71100</td>\n",
       "      <td>31.174093</td>\n",
       "    </tr>\n",
       "    <tr>\n",
       "      <th>1</th>\n",
       "      <td>Card</td>\n",
       "      <td>2</td>\n",
       "      <td>31203</td>\n",
       "      <td>13.681086</td>\n",
       "    </tr>\n",
       "    <tr>\n",
       "      <th>2</th>\n",
       "      <td>Card</td>\n",
       "      <td>3</td>\n",
       "      <td>13462</td>\n",
       "      <td>5.902470</td>\n",
       "    </tr>\n",
       "    <tr>\n",
       "      <th>3</th>\n",
       "      <td>Card</td>\n",
       "      <td>4</td>\n",
       "      <td>8557</td>\n",
       "      <td>3.751852</td>\n",
       "    </tr>\n",
       "    <tr>\n",
       "      <th>4</th>\n",
       "      <td>Card</td>\n",
       "      <td>5</td>\n",
       "      <td>12368</td>\n",
       "      <td>5.422801</td>\n",
       "    </tr>\n",
       "    <tr>\n",
       "      <th>5</th>\n",
       "      <td>Cash</td>\n",
       "      <td>1</td>\n",
       "      <td>48351</td>\n",
       "      <td>21.199698</td>\n",
       "    </tr>\n",
       "    <tr>\n",
       "      <th>6</th>\n",
       "      <td>Cash</td>\n",
       "      <td>2</td>\n",
       "      <td>20053</td>\n",
       "      <td>8.792322</td>\n",
       "    </tr>\n",
       "    <tr>\n",
       "      <th>7</th>\n",
       "      <td>Cash</td>\n",
       "      <td>3</td>\n",
       "      <td>9017</td>\n",
       "      <td>3.953541</td>\n",
       "    </tr>\n",
       "    <tr>\n",
       "      <th>8</th>\n",
       "      <td>Cash</td>\n",
       "      <td>4</td>\n",
       "      <td>6572</td>\n",
       "      <td>2.881521</td>\n",
       "    </tr>\n",
       "    <tr>\n",
       "      <th>9</th>\n",
       "      <td>Cash</td>\n",
       "      <td>5</td>\n",
       "      <td>7391</td>\n",
       "      <td>3.240615</td>\n",
       "    </tr>\n",
       "  </tbody>\n",
       "</table>\n",
       "</div>"
      ],
      "text/plain": [
       "  payment_type  passenger_count  count       perc\n",
       "0         Card                1  71100  31.174093\n",
       "1         Card                2  31203  13.681086\n",
       "2         Card                3  13462   5.902470\n",
       "3         Card                4   8557   3.751852\n",
       "4         Card                5  12368   5.422801\n",
       "5         Cash                1  48351  21.199698\n",
       "6         Cash                2  20053   8.792322\n",
       "7         Cash                3   9017   3.953541\n",
       "8         Cash                4   6572   2.881521\n",
       "9         Cash                5   7391   3.240615"
      ]
     },
     "execution_count": 35,
     "metadata": {},
     "output_type": "execute_result"
    }
   ],
   "source": [
    "passenger_count[\"perc\"] = (passenger_count[\"count\"] / passenger_count[\"count\"].sum()) * 100\n",
    "passenger_count"
   ]
  },
  {
   "cell_type": "code",
   "execution_count": 36,
   "id": "fac993e2-2960-4340-85c4-0ba985990c0b",
   "metadata": {},
   "outputs": [
    {
     "data": {
      "text/html": [
       "<div>\n",
       "<style scoped>\n",
       "    .dataframe tbody tr th:only-of-type {\n",
       "        vertical-align: middle;\n",
       "    }\n",
       "\n",
       "    .dataframe tbody tr th {\n",
       "        vertical-align: top;\n",
       "    }\n",
       "\n",
       "    .dataframe thead th {\n",
       "        text-align: right;\n",
       "    }\n",
       "</style>\n",
       "<table border=\"1\" class=\"dataframe\">\n",
       "  <thead>\n",
       "    <tr style=\"text-align: right;\">\n",
       "      <th></th>\n",
       "      <th>payment_type</th>\n",
       "      <th>1</th>\n",
       "      <th>2</th>\n",
       "      <th>3</th>\n",
       "      <th>4</th>\n",
       "      <th>5</th>\n",
       "    </tr>\n",
       "  </thead>\n",
       "  <tbody>\n",
       "    <tr>\n",
       "      <th>0</th>\n",
       "      <td>Card</td>\n",
       "      <td>31.174093</td>\n",
       "      <td>13.681086</td>\n",
       "      <td>5.90247</td>\n",
       "      <td>3.751852</td>\n",
       "      <td>5.422801</td>\n",
       "    </tr>\n",
       "    <tr>\n",
       "      <th>1</th>\n",
       "      <td>Cash</td>\n",
       "      <td>21.199698</td>\n",
       "      <td>8.792322</td>\n",
       "      <td>3.953541</td>\n",
       "      <td>2.881521</td>\n",
       "      <td>3.240615</td>\n",
       "    </tr>\n",
       "  </tbody>\n",
       "</table>\n",
       "</div>"
      ],
      "text/plain": [
       "  payment_type          1          2         3         4         5\n",
       "0         Card  31.174093  13.681086   5.90247  3.751852  5.422801\n",
       "1         Cash  21.199698   8.792322  3.953541  2.881521  3.240615"
      ]
     },
     "execution_count": 36,
     "metadata": {},
     "output_type": "execute_result"
    }
   ],
   "source": [
    "# Create an empty DataFrame with the specified columns\n",
    "df = pd.DataFrame(columns=[\"payment_type\", 1, 2, 3, 4, 5])\n",
    "\n",
    "# Assign payment types\n",
    "df[\"payment_type\"] = [\"Card\", \"Cash\"]\n",
    "\n",
    "# Extract the percentage values for each payment type\n",
    "card_perc = passenger_count[passenger_count[\"payment_type\"] == \"Card\"][\"perc\"].values\n",
    "cash_perc = passenger_count[passenger_count[\"payment_type\"] == \"Cash\"][\"perc\"].values\n",
    "\n",
    "# Assign percentages to the corresponding rows\n",
    "df.iloc[0, 1:] = card_perc  \n",
    "df.iloc[1, 1:] = cash_perc  \n",
    "df"
   ]
  },
  {
   "cell_type": "code",
   "execution_count": 38,
   "id": "a2ab8c00-1310-46aa-913c-baa14fba5f99",
   "metadata": {},
   "outputs": [
    {
     "data": {
      "image/png": "[encoded data removed]",
      "text/plain": [
       "<Figure size 2000x600 with 1 Axes>"
      ]
     },
     "metadata": {},
     "output_type": "display_data"
    }
   ],
   "source": [
    "# Create the DataFrame for plotting based on the passenger_count data\n",
    "df_plot = pd.DataFrame(columns=[\"payment_type\", 1, 2, 3, 4, 5])\n",
    "df_plot[\"payment_type\"] = [\"Card\", \"Cash\"]\n",
    "df_plot.iloc[0, 1:] = passenger_count.iloc[0:5, -1]\n",
    "df_plot.iloc[1, 1:] = passenger_count.iloc[5:, -1]\n",
    "\n",
    "fig, ax = plt.subplots(figsize=(20, 6))\n",
    "\n",
    "# Set the payment_type as the index for proper plotting\n",
    "df_plot.set_index(\"payment_type\").plot(kind=\"barh\", stacked=True,\n",
    "                                        color=[\"#FA643F\", \"#FFBCAB\", \"#CBB2B2\", \"#F1F1F1\", \"#FD9F9F\"],\n",
    "                                        ax=ax)\n",
    "\n",
    "# Annotating the bars with percentages\n",
    "for p in ax.patches:\n",
    "    width = p.get_width()\n",
    "    height = p.get_height()\n",
    "    x, y = p.get_xy()  # Get the x and y coordinates of the rectangle\n",
    "    ax.text(x + width / 2, y + height / 2, \"{:.1f}%\".format(width), \n",
    "            horizontalalignment=\"center\", verticalalignment=\"center\", color=\"white\")\n",
    "\n",
    "plt.title(\"Passenger Count by Payment Type\")\n",
    "plt.xlabel(\"Percentage (%)\")\n",
    "plt.ylabel(\"Payment Type\")\n",
    "plt.legend(title=\"Number of Passengers\")\n",
    "plt.show()"
   ]
  },
  {
   "cell_type": "markdown",
   "id": "9496eb74-fd14-4fbe-abbc-da8864f670b6",
   "metadata": {},
   "source": [
    "**Null Hypothesis**: There's no difference in average fare between customers who use credit cards & customers who use cash.\n",
    "\n",
    "**Alternate Hypothesis**: There's difference in average fare between customers who use credit cards & customers who use cash."
   ]
  },
  {
   "cell_type": "code",
   "execution_count": 39,
   "id": "fefdc816-8f5f-43f4-847e-7578384d46a9",
   "metadata": {},
   "outputs": [],
   "source": [
    "import statsmodels.api as sm"
   ]
  },
  {
   "cell_type": "code",
   "execution_count": 42,
   "id": "a96eecf6-b4b6-4b3a-a10a-4fd89147d14a",
   "metadata": {},
   "outputs": [
    {
     "name": "stdout",
     "output_type": "stream",
     "text": [
      "Card Fare Size: 717127\n",
      "Cash Fare Size: 322070\n",
      "Card Fare Mean: 13.26, Std Dev: 13.15\n",
      "Cash Fare Mean: 12.40, Std Dev: 12.13\n",
      "T-Statistic: 32.6696, P-Value: 6.4771e-234\n"
     ]
    }
   ],
   "source": [
    "df = pd.read_csv(\"taxi_trip.csv\")\n",
    "\n",
    "df['fare_amount'] = pd.to_numeric(df['fare_amount'], errors='coerce')\n",
    "\n",
    "# Filter dataset for only payment types 1 (Card) and 2 (Cash)\n",
    "df = df[df[\"payment_type\"].isin([1, 2])]\n",
    "\n",
    "df[\"payment_type\"] = df[\"payment_type\"].replace({1: \"Card\", 2: \"Cash\"})\n",
    "\n",
    "# Remove invalid 'fare_amount' rows (e.g., NaN values)\n",
    "df = df[df['fare_amount'].notna()]\n",
    "\n",
    "# Isolate the 'fare_amount' for Card and Cash payment types\n",
    "card_fare = df[df[\"payment_type\"] == \"Card\"][\"fare_amount\"]\n",
    "cash_fare = df[df[\"payment_type\"] == \"Cash\"][\"fare_amount\"]\n",
    "\n",
    "# Print sample sizes for Card and Cash payments\n",
    "print(\"Card Fare Size:\", card_fare.count())\n",
    "print(\"Cash Fare Size:\", cash_fare.count())\n",
    "\n",
    "print(f\"Card Fare Mean: {card_fare.mean():.2f}, Std Dev: {card_fare.std():.2f}\")\n",
    "print(f\"Cash Fare Mean: {cash_fare.mean():.2f}, Std Dev: {cash_fare.std():.2f}\")\n",
    "\n",
    "# Perform t-test if samples are non-empty\n",
    "if not card_fare.empty and not cash_fare.empty:\n",
    "    t_stat, p_value = st.ttest_ind(card_fare, cash_fare, equal_var=False)\n",
    "    print(f\"T-Statistic: {t_stat:.4f}, P-Value: {p_value:.4e}\")\n",
    "else:\n",
    "    print(\"One or both samples are empty; cannot perform t-test.\")"
   ]
  },
  {
   "cell_type": "markdown",
   "id": "52fbfff7-cf1f-40b5-8278-5752498e68fb",
   "metadata": {},
   "source": [
    "**1. Sample Sizes:**\n",
    "- Card Fare Size: 717,127 samples for Card payment method indicate a large dataset, providing robust statistical power for analysis.\n",
    "- Cash Fare Size: 322,070 samples for Cash payment method, while smaller, is still substantial enough to conduct meaningful comparisons.\n",
    "\n",
    "**2. Mean Fare Amount:**\n",
    "- Card Fare Mean: \\$13.26 indicates that, on average, trips paid with a card are slightly more expensive than those paid in cash.\n",
    "- Cash Fare Mean: \\$12.40 suggests that cash payments result in lower average fare amounts compared to card payments.\n",
    "\n",
    "**3. Standard Deviation:**\n",
    "- Card Fare Std Dev: \\$13.15 reflects a high variability in the fare amounts paid by card, indicating that there are significant differences in fare amounts among the trips.\n",
    "- Cash Fare Std Dev: \\$12.13 shows variability in cash fares as well, but it is slightly lower than that of card fares.\n",
    "\n",
    "**4. Statistical Significance:**\n",
    "- T-Statistic: 32.6696 indicates a very strong difference between the two groups' means. A high t-statistic suggests that the means of the two groups (Card vs. Cash) are significantly different.\n",
    "- P-Value: 6.4771e-234 is an extremely small p-value, which is far below any conventional significance threshold (e.g., 0.05 or 0.01). This indicates strong evidence against the null hypothesis that there is no difference between the means of the two groups. Therefore, it can be concluded that the difference in average fare amounts between card and cash payments is statistically significant.\n",
    "\n",
    "**5. Conclusion:**\n",
    "- Based on the analysis, it appears that trips paid with a card tend to have a higher average fare compared to those paid with cash. The statistical tests confirm that this difference is significant, suggesting that payment type may influence fare amounts in this dataset."
   ]
  },
  {
   "cell_type": "markdown",
   "id": "849bf7f1-7279-4f9e-a04e-541d0e33aaa2",
   "metadata": {},
   "source": [
    "## Insights\n",
    "\n",
    "**1. Incentivize Card Payments:**\n",
    "\n",
    "1. Discounts or Promotions: Offer a small discount or promotional offer for customers who choose to pay with a Card. For example, a discount on their next ride or a loyalty program that provides points for Card payments can motivate users.\n",
    "2. Cashback Offers: Partner with banks or financial institutions to offer cashback rewards for customers who use their cards for payment.\n",
    "\n",
    "**2. Enhance Convenience:**\n",
    "\n",
    "1. Simplify the Payment Process: Ensure that the Card payment process is seamless and user-friendly. Implement features like quick tap payments, auto-fill for payment details, or mobile wallets that facilitate faster transactions.\n",
    "2. In-app Payment Options: For ride-hailing apps, encourage users to link their payment methods in-app to streamline the payment process, reducing the need to handle cash."
   ]
  },
  {
   "cell_type": "code",
   "execution_count": null,
   "id": "4b8f1aca-78c0-4d28-abde-4f4ebbdebb83",
   "metadata": {},
   "outputs": [],
   "source": []
  },
  {
   "cell_type": "code",
   "execution_count": null,
   "id": "76a32b83-7484-4dc0-80fb-874af2e96682",
   "metadata": {},
   "outputs": [],
   "source": []
  },
  {
   "cell_type": "code",
   "execution_count": null,
   "id": "efcf372b-2a96-4cd5-9e77-bb733971698b",
   "metadata": {},
   "outputs": [],
   "source": []
  }
 ],
 "metadata": {
  "kernelspec": {
   "display_name": "Python 3 (ipykernel)",
   "language": "python",
   "name": "python3"
  },
  "language_info": {
   "codemirror_mode": {
    "name": "ipython",
    "version": 3
   },
   "file_extension": ".py",
   "mimetype": "text/x-python",
   "name": "python",
   "nbconvert_exporter": "python",
   "pygments_lexer": "ipython3",
   "version": "3.12.4"
  }
 },
 "nbformat": 4,
 "nbformat_minor": 5
}
